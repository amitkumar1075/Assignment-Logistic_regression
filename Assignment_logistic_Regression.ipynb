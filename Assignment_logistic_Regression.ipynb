{
 "cells": [
  {
   "cell_type": "markdown",
   "id": "99c99d45-170e-4128-998c-0bbf52dc4d17",
   "metadata": {},
   "source": [
    "## **Theory Questions**"
   ]
  },
  {
   "cell_type": "code",
   "execution_count": 2,
   "id": "ccf2064b-ce6c-4a08-8c58-59f0917915e0",
   "metadata": {},
   "outputs": [],
   "source": [
    "#1. What is Logistic Regression, and how does it differ from Linear Regression\n",
    "\n",
    "#ans.>> Logistic Regression is a classification algorithm used to predict discrete classes (e.g., yes/no, 0/1).\n",
    "#       Linear Regression is a regression algorithm used to predict continuous outcomes."
   ]
  },
  {
   "cell_type": "code",
   "execution_count": 3,
   "id": "6d18b209-da9b-422b-a1cc-ebdd53a20e29",
   "metadata": {},
   "outputs": [],
   "source": [
    "#2. What is the mathematical equation of Logistic Regression \n",
    "\n",
    "#ans.>>Logistic Regression predicts the probability \n",
    "# P(y=1∣x) = σ(z)= 1/1-(e**-z)\n"
   ]
  },
  {
   "cell_type": "code",
   "execution_count": 4,
   "id": "542560a5-ab2c-411e-9cf3-054cdecdd603",
   "metadata": {},
   "outputs": [],
   "source": [
    "#3. Why do we use the Sigmoid function in Logistic Regression \n",
    "\n",
    "#ans.>>the Sigmoid Function compresses any real-valued number into the range (0, 1), which allows us to interpret the output as a probability"
   ]
  },
  {
   "cell_type": "code",
   "execution_count": 5,
   "id": "01407818-033d-468c-9d44-071b5897b2a4",
   "metadata": {},
   "outputs": [],
   "source": [
    "#4. What is the cost function of Logistic Regression \n",
    "\n",
    "#ans.>> We use Log Loss (Cross-Entropy Loss):\n",
    "# J(θ) = -(1/m) * Σ [ y(i) * log(ŷ(i)) + (1 - y(i)) * log(1 - ŷ(i)) ]"
   ]
  },
  {
   "cell_type": "code",
   "execution_count": 6,
   "id": "e1389e72-130d-4347-848b-77434aff77ce",
   "metadata": {},
   "outputs": [],
   "source": [
    "#5. What is Regularization in Logistic Regression? Why is it needed \n",
    "\n",
    "#ans.>> Regularization prevents overfitting by penalizing large coefficients in the model.\n",
    "#       Needed when: Too many features or noise causes the model to fit training data too closely.\n",
    "#       Adds a penalty term to the cost function."
   ]
  },
  {
   "cell_type": "code",
   "execution_count": 7,
   "id": "8cdea0ab-a0c8-42e2-9e33-41bc1163dccc",
   "metadata": {},
   "outputs": [],
   "source": [
    "#6. Explain the difference between Lasso, Ridge, and Elastic Net regression \n",
    "\n",
    "#ans.>>Ridge Regression: Ridge Regression adds L2 regularization (penalty on the square of coefficients)\n",
    "#          it shrinks coefficients, but doesn’t make them exactly zero.\n",
    "\n",
    "#      Lasso Regression :Lasso Regression adds L1 regularization (penalty on the absolute value of coefficients) \n",
    "#           it can shrink some coefficients to zero, effectively doing feature selection.\n",
    "\n",
    "#      Elastic Net Regression : Elastic Net Regression combines both L1 and L2 regularization, balancing between Ridge and Lasso, \n",
    "#            useful when there are many correlated features."
   ]
  },
  {
   "cell_type": "code",
   "execution_count": 8,
   "id": "4b2a30f6-5ecc-4fc8-bbb6-5755f50e315a",
   "metadata": {},
   "outputs": [],
   "source": [
    "#7. When should we use Elastic Net instead of Lasso or Ridge \n",
    "\n",
    "#ans.>>Use Elastic Net when:\n",
    "#      You have many features, and some are highly correlated.\n",
    "#      You want both regularization and feature selection."
   ]
  },
  {
   "cell_type": "code",
   "execution_count": 9,
   "id": "a3c9888b-a5ba-49fc-9a58-b5f54055bb95",
   "metadata": {},
   "outputs": [],
   "source": [
    "#8. What is the impact of the regularization parameter (λ) in Logistic Regression\n",
    "\n",
    "#ans.>> High λ: More regularization → simpler model → risk of underfitting.\n",
    "#       Low λ: Less regularization → risk of overfitting.\n",
    "#       λ is a hyperparameter and should be tuned using cross-validation."
   ]
  },
  {
   "cell_type": "code",
   "execution_count": 10,
   "id": "fa0a7924-dabf-4e39-8ad5-bbe7e562268c",
   "metadata": {},
   "outputs": [],
   "source": [
    "#9. What are the key assumptions of Logistic Regression\n",
    "\n",
    "#ans.>> these are the key assumptions of logistic regression :-\n",
    "#      1.Linearity between features and log-odds (not output probability).\n",
    "#      2.No multicollinearity among independent variables.\n",
    "#      3.Large sample size.\n",
    "#      4.Independence of observations.\n",
    "#      5.Features should ideally be scaled (especially with regularization)."
   ]
  },
  {
   "cell_type": "code",
   "execution_count": 11,
   "id": "293660ea-6736-4f5f-8d86-7c0ff222ffeb",
   "metadata": {},
   "outputs": [],
   "source": [
    "#10. What are some alternatives to Logistic Regression for classification tasks \n",
    "\n",
    "#ans.>> these are some alternatives to Logistic Regression for classification tasks :-\n",
    "#      1.Decision Trees\n",
    "#      2.Random Forest\n",
    "#      3.Support Vector Machines (SVM)\n",
    "#      4.k-Nearest Neighbors (KNN)\n",
    "#      5.Naive Bayes\n",
    "#      6.Gradient Boosting (XGBoost, LightGBM, etc.)\n",
    "#      7.Neural Networks"
   ]
  },
  {
   "cell_type": "code",
   "execution_count": 12,
   "id": "01ee3dd5-0e11-440c-a443-24e8afd45983",
   "metadata": {},
   "outputs": [],
   "source": [
    "#11. What are Classification Evaluation Metrics\n",
    "\n",
    "#ans.>>Accuracy, Precision, Recall, F1-score, ROC-AUC, Confusion Matrix, Log Loss"
   ]
  },
  {
   "cell_type": "code",
   "execution_count": 13,
   "id": "65e1cdec-7ba1-4319-a8ea-6127ca2cba25",
   "metadata": {},
   "outputs": [],
   "source": [
    "#12. How does class imbalance affect Logistic Regression\n",
    "\n",
    "#ans.>> Model becomes biased toward majority class.\n",
    "#       Accuracy becomes misleading"
   ]
  },
  {
   "cell_type": "code",
   "execution_count": 14,
   "id": "0dc0f47e-5538-4a5c-88ce-16f4d8ab6f84",
   "metadata": {},
   "outputs": [],
   "source": [
    "#13. What is Hyperparameter Tuning in Logistic Regression\n",
    "\n",
    "#ans.>>It’s the process of selecting the best λ (regularization) and solver using:\n",
    "# 1.Grid Search, 2.Random Search, 3.Cross-Validation"
   ]
  },
  {
   "cell_type": "code",
   "execution_count": 15,
   "id": "a4667838-feaf-42ee-9fc8-153cb8d1b6d4",
   "metadata": {},
   "outputs": [],
   "source": [
    "#14. What are different solvers in Logistic Regression?Which one should be used \n",
    "\n",
    "#ans.>> Common solvers in sklearn:\n",
    "#       1.liblinear: For small datasets, supports L1 & L2\n",
    "#       2.saga: Supports L1, L2, Elastic Net (best for large datasets)\n",
    "#       3.lbfgs: Fast, good for multiclass (default)\n",
    "#       4.newton-cg: Handles multiclass, uses Hessian"
   ]
  },
  {
   "cell_type": "code",
   "execution_count": 16,
   "id": "80e4bc35-65ff-40d2-86d4-f67bb5b60121",
   "metadata": {},
   "outputs": [],
   "source": [
    "#15. How is Logistic Regression extended for multiclass classification \n",
    "\n",
    "#ans.>> 1.One-vs-Rest (OvR): One binary classifier per class.\n",
    "#       2.Softmax (Multinomial Logistic Regression): Directly models all classes at once using softmax function."
   ]
  },
  {
   "cell_type": "code",
   "execution_count": 17,
   "id": "f78c0521-cd97-496d-81c9-de90c6486b20",
   "metadata": {},
   "outputs": [],
   "source": [
    "#16. What are the advantages and disadvantages of Logistic Regression \n",
    "\n",
    "#ans.>> Advantages:\n",
    "#          1.Simple, easy to implement.\n",
    "#          2.Outputs probabilities.\n",
    "#          3.Works well with linearly separable data.\n",
    "#      Disadvantages:\n",
    "#         1.Poor performance on non-linear data.\n",
    "#         2.Assumes linearity in log-odds.\n",
    "#         3.Sensitive to outliers."
   ]
  },
  {
   "cell_type": "code",
   "execution_count": 18,
   "id": "43c1783b-94e3-4df0-a941-0366f487c7ff",
   "metadata": {},
   "outputs": [],
   "source": [
    "#17. What are some use cases of Logistic Regression \n",
    "\n",
    "#ans.>> these are some use cases of Logistic Regression :-\n",
    "#         1.mail Spam Detection\n",
    "#         2.Customer Churn Prediction\n",
    "#         3.Credit Scoring\n",
    "#         4.Disease Prediction (e.g., diabetes, cancer)\n",
    "#         5.Marketing Campaign Responses"
   ]
  },
  {
   "cell_type": "code",
   "execution_count": 19,
   "id": "60a52c08-d6b7-414f-9de0-fa094e043b7a",
   "metadata": {},
   "outputs": [],
   "source": [
    "#18. What is the difference between Softmax Regression and Logistic Regression \n",
    "\n",
    "#ans.>>Logistic Regression is used for binary classification (only 2 classes) and uses the sigmoid function.\n",
    "#      Softmax Regression is used for multiclass classification (3 or more classes) and uses the softmax function to give probabilities for each class."
   ]
  },
  {
   "cell_type": "code",
   "execution_count": 20,
   "id": "7d0706be-4958-499d-ab94-4b381c916730",
   "metadata": {},
   "outputs": [],
   "source": [
    "#19. How do we choose between One-vs-Rest (OvR) and Softmax for multiclass classification \n",
    "\n",
    "#ans.>> OvR: Trains one classifier per class; works well for unbalanced or sparse classes.\n",
    "#       Softmax: Trains one model; best for balanced, well-separated classes."
   ]
  },
  {
   "cell_type": "code",
   "execution_count": 21,
   "id": "670f5709-c7bf-4235-8cb9-b7b78e00d0e5",
   "metadata": {},
   "outputs": [],
   "source": [
    "#20. How do we interpret coefficients in Logistic Regression?\n",
    "\n",
    "#ans.>>Each coefficient βⱼ tells us how much the log-odds of the outcome (like success/failure, yes/no, etc.) \n",
    "#       change when xⱼ increases by 1 unit, while keeping other variables the same.\n",
    "#       If βⱼ > 0: Increasing xⱼ makes the probability of class 1 (e.g., success) go up.\n",
    "#      If βⱼ < 0: Increasing xⱼ makes the probability of class 1 go down."
   ]
  },
  {
   "cell_type": "markdown",
   "id": "99ad006d-1d30-4de7-abbb-3f89d90aec9f",
   "metadata": {},
   "source": [
    "## **Practical Questions**"
   ]
  },
  {
   "cell_type": "code",
   "execution_count": 86,
   "id": "2d1256c0-431a-4bd4-891b-26abcc86f89d",
   "metadata": {},
   "outputs": [],
   "source": [
    "import numpy as np \n",
    "import pandas as pd \n",
    "import matplotlib.pyplot as plt\n",
    "import seaborn as sns\n",
    "import warnings \n",
    "warnings.filterwarnings(\"ignore\")"
   ]
  },
  {
   "cell_type": "code",
   "execution_count": 88,
   "id": "38b5570c-fc52-461d-a776-652523bac97a",
   "metadata": {},
   "outputs": [
    {
     "name": "stdout",
     "output_type": "stream",
     "text": [
      "Model Accuracy : 1.0\n"
     ]
    }
   ],
   "source": [
    "#1. Write a Python program that loads a dataset, splits it into training and testing sets, applies Logistic Regression, and prints the model accuracy\n",
    "from sklearn.datasets import load_iris\n",
    "data = load_iris()\n",
    "df = pd.DataFrame(data.data , columns=data.feature_names)\n",
    "df[\"target\"] = data.target\n",
    "df = df[df[\"target\"] != 2]\n",
    "\n",
    "x = df.iloc[:,:-1]\n",
    "y = df.iloc[:,-1]\n",
    "\n",
    "from sklearn.model_selection import train_test_split\n",
    "x_train , x_test , y_train , y_test = train_test_split(x,y, test_size=0.20 , random_state=1)\n",
    "\n",
    "from sklearn.linear_model import LogisticRegression\n",
    "model = LogisticRegression()\n",
    "model.fit(x_train,y_train)\n",
    "y_pred = model.predict(x_test)\n",
    "\n",
    "from sklearn.metrics import accuracy_score\n",
    "print(\"Model Accuracy :\" , accuracy_score(y_test, y_pred))"
   ]
  },
  {
   "cell_type": "code",
   "execution_count": 90,
   "id": "301fee45-8f02-40d0-b4d9-560c2d4b3db7",
   "metadata": {},
   "outputs": [
    {
     "name": "stdout",
     "output_type": "stream",
     "text": [
      "Model Accuracy :  1.0\n"
     ]
    }
   ],
   "source": [
    "#2. Write a Python program to apply L1 regularization (Lasso) on a dataset using LogisticRegression(penalty='l1') and print the model accuracy\n",
    "model_l1 = LogisticRegression(penalty=\"l1\" , solver=\"liblinear\" , max_iter=500)\n",
    "model_l1.fit(x_train,y_train)\n",
    "y_pred_l1 = model_l1.predict(x_test)\n",
    "print(\"Model Accuracy : \", accuracy_score(y_test,y_pred_l1))"
   ]
  },
  {
   "cell_type": "code",
   "execution_count": 92,
   "id": "db7f8785-e184-4373-9705-30462e24e0d0",
   "metadata": {},
   "outputs": [
    {
     "name": "stdout",
     "output_type": "stream",
     "text": [
      "Model Accuracy :  1.0\n",
      "Coefficient : [[ 0.46100411 -0.78836575  2.18624929  0.92865666]]\n"
     ]
    }
   ],
   "source": [
    "#3. Write a Python program to train Logistic Regression with L2 regularization (Ridge) using LogisticRegression(penalty='l2'). Print model accuracy and coefficients\n",
    "model_l2= LogisticRegression(penalty=\"l2\" , solver=\"liblinear\" , max_iter=500)\n",
    "model_l2.fit(x_train,y_train)\n",
    "y_pred_l2 = model_l2.predict(x_test)\n",
    "print(\"Model Accuracy : \", accuracy_score(y_test,y_pred_l2))\n",
    "print(\"Coefficient :\", model.coef_)"
   ]
  },
  {
   "cell_type": "code",
   "execution_count": 94,
   "id": "8bcf7a0f-a9e6-40b1-9520-1665b8d85c3b",
   "metadata": {},
   "outputs": [
    {
     "name": "stdout",
     "output_type": "stream",
     "text": [
      "Model Accuracy :  1.0\n"
     ]
    }
   ],
   "source": [
    "#4. Write a Python program to train Logistic Regression with Elastic Net Regularization (penalty='elasticnet')\n",
    "model_en = LogisticRegression(penalty=\"elasticnet\", solver=\"saga\",l1_ratio=0.2 , max_iter=500)\n",
    "model_en.fit(x_train,y_train)\n",
    "y_pred_en = model_en.predict(x_test)\n",
    "print(\"Model Accuracy : \",accuracy_score(y_test,y_pred_en))"
   ]
  },
  {
   "cell_type": "code",
   "execution_count": 96,
   "id": "80c94f7e-6dd5-4d01-a438-832f46918220",
   "metadata": {},
   "outputs": [
    {
     "name": "stdout",
     "output_type": "stream",
     "text": [
      "Model Accuracy : 1.0\n"
     ]
    }
   ],
   "source": [
    "#5. Write a Python program to train a Logistic Regression model for multiclass classification using multi_class='ovr'\n",
    "model_ovr = LogisticRegression(multi_class=\"ovr\" , max_iter=500)\n",
    "model_ovr.fit(x_train,y_train)\n",
    "y_pred_ovr = model_ovr.predict(x_test)\n",
    "print(\"Model Accuracy :\",accuracy_score(y_test,y_pred_ovr))"
   ]
  },
  {
   "cell_type": "code",
   "execution_count": 98,
   "id": "0719f68d-d469-4d0e-a7f7-aea339079670",
   "metadata": {},
   "outputs": [
    {
     "name": "stdout",
     "output_type": "stream",
     "text": [
      "Fitting 5 folds for each of 18 candidates, totalling 90 fits\n",
      "[CV] END ....................................C=1, penalty=l1; total time=   0.0s\n",
      "[CV] END ....................................C=1, penalty=l1; total time=   0.0s\n",
      "[CV] END ....................................C=1, penalty=l1; total time=   0.0s\n",
      "[CV] END ....................................C=1, penalty=l1; total time=   0.0s\n",
      "[CV] END ....................................C=1, penalty=l1; total time=   0.0s\n",
      "[CV] END ....................................C=1, penalty=l2; total time=   0.0s\n",
      "[CV] END ....................................C=1, penalty=l2; total time=   0.0s\n",
      "[CV] END ....................................C=1, penalty=l2; total time=   0.0s\n",
      "[CV] END ....................................C=1, penalty=l2; total time=   0.0s\n",
      "[CV] END ....................................C=1, penalty=l2; total time=   0.0s\n",
      "[CV] END ............................C=1, penalty=elasticnet; total time=   0.0s\n",
      "[CV] END ............................C=1, penalty=elasticnet; total time=   0.0s\n",
      "[CV] END ............................C=1, penalty=elasticnet; total time=   0.0s\n",
      "[CV] END ............................C=1, penalty=elasticnet; total time=   0.0s\n",
      "[CV] END ............................C=1, penalty=elasticnet; total time=   0.0s\n",
      "[CV] END ....................................C=2, penalty=l1; total time=   0.0s\n",
      "[CV] END ....................................C=2, penalty=l1; total time=   0.0s\n",
      "[CV] END ....................................C=2, penalty=l1; total time=   0.0s\n",
      "[CV] END ....................................C=2, penalty=l1; total time=   0.0s\n",
      "[CV] END ....................................C=2, penalty=l1; total time=   0.0s\n",
      "[CV] END ....................................C=2, penalty=l2; total time=   0.0s\n",
      "[CV] END ....................................C=2, penalty=l2; total time=   0.0s\n",
      "[CV] END ....................................C=2, penalty=l2; total time=   0.0s\n",
      "[CV] END ....................................C=2, penalty=l2; total time=   0.0s\n",
      "[CV] END ....................................C=2, penalty=l2; total time=   0.0s\n",
      "[CV] END ............................C=2, penalty=elasticnet; total time=   0.0s\n",
      "[CV] END ............................C=2, penalty=elasticnet; total time=   0.0s\n",
      "[CV] END ............................C=2, penalty=elasticnet; total time=   0.0s\n",
      "[CV] END ............................C=2, penalty=elasticnet; total time=   0.0s\n",
      "[CV] END ............................C=2, penalty=elasticnet; total time=   0.0s\n",
      "[CV] END ...................................C=10, penalty=l1; total time=   0.0s\n",
      "[CV] END ...................................C=10, penalty=l1; total time=   0.0s\n",
      "[CV] END ...................................C=10, penalty=l1; total time=   0.0s\n",
      "[CV] END ...................................C=10, penalty=l1; total time=   0.0s\n",
      "[CV] END ...................................C=10, penalty=l1; total time=   0.0s\n",
      "[CV] END ...................................C=10, penalty=l2; total time=   0.0s\n",
      "[CV] END ...................................C=10, penalty=l2; total time=   0.0s\n",
      "[CV] END ...................................C=10, penalty=l2; total time=   0.0s\n",
      "[CV] END ...................................C=10, penalty=l2; total time=   0.0s\n",
      "[CV] END ...................................C=10, penalty=l2; total time=   0.0s\n",
      "[CV] END ...........................C=10, penalty=elasticnet; total time=   0.0s\n",
      "[CV] END ...........................C=10, penalty=elasticnet; total time=   0.0s\n",
      "[CV] END ...........................C=10, penalty=elasticnet; total time=   0.0s\n",
      "[CV] END ...........................C=10, penalty=elasticnet; total time=   0.0s\n",
      "[CV] END ...........................C=10, penalty=elasticnet; total time=   0.0s\n",
      "[CV] END ...................................C=20, penalty=l1; total time=   0.0s\n",
      "[CV] END ...................................C=20, penalty=l1; total time=   0.0s\n",
      "[CV] END ...................................C=20, penalty=l1; total time=   0.0s\n",
      "[CV] END ...................................C=20, penalty=l1; total time=   0.0s\n",
      "[CV] END ...................................C=20, penalty=l1; total time=   0.0s\n",
      "[CV] END ...................................C=20, penalty=l2; total time=   0.0s\n",
      "[CV] END ...................................C=20, penalty=l2; total time=   0.0s\n",
      "[CV] END ...................................C=20, penalty=l2; total time=   0.0s\n",
      "[CV] END ...................................C=20, penalty=l2; total time=   0.0s\n",
      "[CV] END ...................................C=20, penalty=l2; total time=   0.0s\n",
      "[CV] END ...........................C=20, penalty=elasticnet; total time=   0.0s\n",
      "[CV] END ...........................C=20, penalty=elasticnet; total time=   0.0s\n",
      "[CV] END ...........................C=20, penalty=elasticnet; total time=   0.0s\n",
      "[CV] END ...........................C=20, penalty=elasticnet; total time=   0.0s\n",
      "[CV] END ...........................C=20, penalty=elasticnet; total time=   0.0s\n",
      "[CV] END ...................................C=30, penalty=l1; total time=   0.0s\n",
      "[CV] END ...................................C=30, penalty=l1; total time=   0.0s\n",
      "[CV] END ...................................C=30, penalty=l1; total time=   0.0s\n",
      "[CV] END ...................................C=30, penalty=l1; total time=   0.0s\n",
      "[CV] END ...................................C=30, penalty=l1; total time=   0.0s\n",
      "[CV] END ...................................C=30, penalty=l2; total time=   0.0s\n",
      "[CV] END ...................................C=30, penalty=l2; total time=   0.0s\n",
      "[CV] END ...................................C=30, penalty=l2; total time=   0.0s\n",
      "[CV] END ...................................C=30, penalty=l2; total time=   0.0s\n",
      "[CV] END ...................................C=30, penalty=l2; total time=   0.0s\n",
      "[CV] END ...........................C=30, penalty=elasticnet; total time=   0.0s\n",
      "[CV] END ...........................C=30, penalty=elasticnet; total time=   0.0s\n",
      "[CV] END ...........................C=30, penalty=elasticnet; total time=   0.0s\n",
      "[CV] END ...........................C=30, penalty=elasticnet; total time=   0.0s\n",
      "[CV] END ...........................C=30, penalty=elasticnet; total time=   0.0s\n",
      "[CV] END ...................................C=40, penalty=l1; total time=   0.0s\n",
      "[CV] END ...................................C=40, penalty=l1; total time=   0.0s\n",
      "[CV] END ...................................C=40, penalty=l1; total time=   0.0s\n",
      "[CV] END ...................................C=40, penalty=l1; total time=   0.0s\n",
      "[CV] END ...................................C=40, penalty=l1; total time=   0.0s\n",
      "[CV] END ...................................C=40, penalty=l2; total time=   0.0s\n",
      "[CV] END ...................................C=40, penalty=l2; total time=   0.0s\n",
      "[CV] END ...................................C=40, penalty=l2; total time=   0.0s\n",
      "[CV] END ...................................C=40, penalty=l2; total time=   0.0s\n",
      "[CV] END ...................................C=40, penalty=l2; total time=   0.0s\n",
      "[CV] END ...........................C=40, penalty=elasticnet; total time=   0.0s\n",
      "[CV] END ...........................C=40, penalty=elasticnet; total time=   0.0s\n",
      "[CV] END ...........................C=40, penalty=elasticnet; total time=   0.0s\n",
      "[CV] END ...........................C=40, penalty=elasticnet; total time=   0.0s\n",
      "[CV] END ...........................C=40, penalty=elasticnet; total time=   0.0s\n",
      "Gridsearchcv Best : {'C': 1, 'penalty': 'l2'}\n",
      "Accuracy : 1.0\n"
     ]
    }
   ],
   "source": [
    "#6. Write a Python program to apply GridSearchCV to tune the hyperparameters (C and penalty) of Logistic Regression. Print the best parameters and accuracy\n",
    "from sklearn.model_selection import GridSearchCV\n",
    "params = {\"penalty\": (\"l1\", \"l2\", \"elasticnet\"), 'C': [1, 2, 10, 20, 30, 40]}\n",
    "classifier = LogisticRegression()\n",
    "clf = GridSearchCV(classifier , param_grid= params , cv=5 ,verbose=2)\n",
    "clf.fit(x_train,y_train)\n",
    "print(\"Gridsearchcv Best :\" ,clf.best_params_)\n",
    "print(\"Accuracy :\",clf.best_score_)"
   ]
  },
  {
   "cell_type": "code",
   "execution_count": 100,
   "id": "b3a23d19-b45b-425b-b54b-eadbd766822f",
   "metadata": {},
   "outputs": [
    {
     "name": "stdout",
     "output_type": "stream",
     "text": [
      "Stratified K-Fold Avg Accuracy: 1.0\n"
     ]
    }
   ],
   "source": [
    "#7. Write a Python program to evaluate Logistic Regression using Stratified K-Fold Cross-Validation. Print the average accuracy\n",
    "from sklearn.model_selection import StratifiedKFold\n",
    "from sklearn.model_selection import cross_val_score\n",
    "model_skf = StratifiedKFold(n_splits=5)\n",
    "scores = cross_val_score(LogisticRegression(max_iter=500), x, y, cv=model_skf)\n",
    "print(\"Stratified K-Fold Avg Accuracy:\", scores.mean())"
   ]
  },
  {
   "cell_type": "code",
   "execution_count": null,
   "id": "a13d61ae-55d7-4208-b1a2-d93669cdc789",
   "metadata": {},
   "outputs": [],
   "source": [
    "#8. Write a Python program to load a dataset from a CSV file, apply Logistic Regression, and evaluate its accuracy.\n",
    "df = pd.read_csv(\"Car Sale.csv\")\n",
    "\n",
    "x = df.drop(\"Price ($)\" , axis=1)\n",
    "y = df[\"Price ($)\"]\n",
    "x_train_car , x_test_car , y_train_car , y_test_car = train_test_split(x,y, test_size=0.20,random_state=1)\n",
    "model_car = LogisticRegression(max_iter=500)\n",
    "model_car.fit(x_train_car,y_train_car)\n",
    "y_pred_car = model_car.predict(x_test_car)\n",
    "print(\"Accuracy :\",accuracy_score(y_train_car,y_pred_car))"
   ]
  },
  {
   "cell_type": "code",
   "execution_count": 102,
   "id": "97a6b303-431b-436a-bfc5-fdbeaf7b8905",
   "metadata": {},
   "outputs": [
    {
     "name": "stdout",
     "output_type": "stream",
     "text": [
      "RandomizedSearchCV best: {'penalty': 'l2', 'C': 10}\n",
      "Accuracy: 1.0\n"
     ]
    }
   ],
   "source": [
    "#9. Write a Python program to apply RandomizedSearchCV for tuning hyperparameters (C, penalty, solver) in Logistic Regression. Print the best parameters and accuracy\n",
    "from sklearn.model_selection import RandomizedSearchCV\n",
    "random_clf = RandomizedSearchCV(classifier, param_distributions=params, n_iter=10, cv = 5)\n",
    "random_clf.fit(x_train,y_train)\n",
    "print(\"RandomizedSearchCV best:\", random_clf.best_params_)\n",
    "print(\"Accuracy:\", random_clf.best_score_)\n"
   ]
  },
  {
   "cell_type": "code",
   "execution_count": 104,
   "id": "67765b7e-7d47-4a6a-b2eb-fd54e91a5ab1",
   "metadata": {},
   "outputs": [
    {
     "name": "stdout",
     "output_type": "stream",
     "text": [
      "OvO Accuracy: 1.0\n"
     ]
    }
   ],
   "source": [
    "#10. Write a Python program to implement One-vs-One (OvO) Multiclass Logistic Regression and print accuracy\n",
    "from sklearn.multiclass import OneVsOneClassifier\n",
    "model_ovo = OneVsOneClassifier(LogisticRegression(max_iter=500))\n",
    "model_ovo.fit(x_train, y_train)\n",
    "y_pred_ovo = model_ovo.predict(x_test)\n",
    "print(\"OvO Accuracy:\", accuracy_score(y_test,y_pred_ovo ))\n"
   ]
  },
  {
   "cell_type": "code",
   "execution_count": 106,
   "id": "031118d9-51d9-48be-b2a3-110b7d801fdf",
   "metadata": {},
   "outputs": [
    {
     "data": {
      "image/png": "[encoded data removed]",
      "text/plain": [
       "<Figure size 400x400 with 2 Axes>"
      ]
     },
     "metadata": {},
     "output_type": "display_data"
    }
   ],
   "source": [
    "#11. Write a Python program to train a Logistic Regression model and visualize the confusion matrix for binary classification\n",
    "from sklearn.metrics import confusion_matrix\n",
    "cm = confusion_matrix(y_test, y_pred)\n",
    "plt.figure(figsize=(4,4))\n",
    "plt.imshow(cm, cmap='Blues')\n",
    "plt.title('Confusion Matrix'); plt.colorbar()\n",
    "plt.xticks([0,1]); plt.yticks([0,1])\n",
    "plt.xlabel('Predicted'); plt.ylabel('Actual')\n",
    "for i in range(2):\n",
    "    for j in range(2):\n",
    "        plt.text(j,i, cm[i,j], ha='center', va='center', color='white')\n",
    "plt.show()"
   ]
  },
  {
   "cell_type": "code",
   "execution_count": 108,
   "id": "09468160-cdfb-4212-a79d-05a9912c5411",
   "metadata": {},
   "outputs": [
    {
     "name": "stdout",
     "output_type": "stream",
     "text": [
      "Precision: 1.0\n",
      "Recall: 1.0\n",
      "F1 Score: 1.0\n"
     ]
    }
   ],
   "source": [
    "#12. Write a Python program to train a Logistic Regression model and evaluate its performance using Precision, Recall, and F1-Score\n",
    "from sklearn.metrics import precision_recall_fscore_support\n",
    "\n",
    "p, r, f, _ = precision_recall_fscore_support(y_test, y_pred, average='macro')\n",
    "\n",
    "print(\"Precision:\", p)\n",
    "print(\"Recall:\", r)\n",
    "print(\"F1 Score:\", f)\n"
   ]
  },
  {
   "cell_type": "code",
   "execution_count": 134,
   "id": "9a3eafa0-a616-4bfb-bf2d-780fd41134fc",
   "metadata": {},
   "outputs": [
    {
     "name": "stdout",
     "output_type": "stream",
     "text": [
      "Imbalanced + class_weight Accuracy: 0.71\n"
     ]
    }
   ],
   "source": [
    "#13. Write a Python program to train a Logistic Regression model on imbalanced data and apply class weights to improve model performance\n",
    "y_imbal = np.hstack((np.zeros(len(y)-10), np.ones(10)))\n",
    "X_imbal = x[:len(y_imbal)]\n",
    "lr_w = LogisticRegression(class_weight='balanced', max_iter=500).fit(X_imbal, y_imbal)\n",
    "print(\"Imbalanced + class_weight Accuracy:\", accuracy_score(y_imbal, lr_w.predict(X_imbal)))\n"
   ]
  },
  {
   "cell_type": "code",
   "execution_count": 37,
   "id": "616c2b2a-0ff7-4de5-bd61-23488ed57755",
   "metadata": {},
   "outputs": [
    {
     "name": "stdout",
     "output_type": "stream",
     "text": [
      "Titanic Logistic Regression Accuracy: 0.7713004484304933\n"
     ]
    }
   ],
   "source": [
    "#14. Write a Python program to train Logistic Regression on the Titanic dataset, handle missing values, and evaluate performance\n",
    "import pandas as pd\n",
    "from sklearn.linear_model import LogisticRegression\n",
    "from sklearn.model_selection import train_test_split\n",
    "from sklearn.metrics import accuracy_score\n",
    "from sklearn.preprocessing import StandardScaler\n",
    "\n",
    "# Load dataset\n",
    "df = pd.read_csv('titanic.csv')\n",
    "\n",
    "# Drop non-numeric or irrelevant columns\n",
    "df = df.drop(['PassengerId', 'Name', 'Ticket', 'Cabin'], axis=1)\n",
    "\n",
    "# Handle missing values\n",
    "df['Age'].fillna(df['Age'].median(), inplace=True)\n",
    "df['Embarked'].fillna(df['Embarked'].mode()[0], inplace=True)\n",
    "\n",
    "# Encode categorical columns\n",
    "df['Sex'] = df['Sex'].map({'male': 0, 'female': 1})\n",
    "df = pd.get_dummies(df, columns=['Embarked'], drop_first=True)\n",
    "\n",
    "# Separate features and target\n",
    "X = df.drop('Survived', axis=1)\n",
    "y = df['Survived']\n",
    "\n",
    "# Feature scaling\n",
    "scaler = StandardScaler()\n",
    "X_scaled = scaler.fit_transform(X)\n",
    "\n",
    "# Train/test split\n",
    "X_train, X_test, y_train, y_test = train_test_split(X_scaled, y, stratify=y, random_state=42)\n",
    "\n",
    "# Train model\n",
    "model = LogisticRegression(max_iter=500)\n",
    "model.fit(X_train, y_train)\n",
    "\n",
    "# Evaluate model\n",
    "y_pred = model.predict(X_test)\n",
    "accuracy = accuracy_score(y_test, y_pred)\n",
    "print(\"Titanic Logistic Regression Accuracy:\", accuracy)\n",
    "\n"
   ]
  },
  {
   "cell_type": "code",
   "execution_count": 130,
   "id": "846652c0-a3fc-4751-ae4a-54802ad5965c",
   "metadata": {},
   "outputs": [
    {
     "name": "stdout",
     "output_type": "stream",
     "text": [
      "without scaling: 1.0\n",
      "With scaling: 1.0\n"
     ]
    }
   ],
   "source": [
    "#15. Write a Python program to apply feature scaling (Standardization) before training a Logistic Regression model. Evaluate its accuracy and compare results with and without scaling\n",
    "from sklearn.preprocessing import StandardScaler\n",
    "scaler = StandardScaler().fit(x_train)\n",
    "x_train, x_test = scaler.transform(x_train), scaler.transform(x_test)\n",
    "acc_no = accuracy_score(y_test, LogisticRegression(max_iter=500).fit(x_train, y_train).predict(x_test))\n",
    "acc_yes = accuracy_score(y_test, LogisticRegression(max_iter=500).fit(x_train, y_train).predict(x_test))\n",
    "print(\"without scaling:\", acc_no)\n",
    "print(\"With scaling:\", acc_yes)\n"
   ]
  },
  {
   "cell_type": "code",
   "execution_count": 132,
   "id": "db7e90c6-1aea-47f9-9283-c6430b622a3a",
   "metadata": {},
   "outputs": [
    {
     "data": {
      "text/plain": [
       "1.0"
      ]
     },
     "execution_count": 132,
     "metadata": {},
     "output_type": "execute_result"
    }
   ],
   "source": [
    "#16. Write a Python program to train Logistic Regression and evaluate its performance using ROC-AUC score\n",
    "from sklearn.metrics import roc_curve , auc\n",
    "\n",
    "y_pred_proba = model.predict_proba(x_test)[:,1]\n",
    "fpr, tpr, thresholds = roc_curve(y_test, y_pred_proba)\n",
    "roc_auc = auc(fpr , tpr)\n",
    "roc_auc"
   ]
  },
  {
   "cell_type": "code",
   "execution_count": 112,
   "id": "0da97653-8f97-40af-9e2b-1f68661b3165",
   "metadata": {},
   "outputs": [
    {
     "name": "stdout",
     "output_type": "stream",
     "text": [
      "Accuracy Score : 1.0\n"
     ]
    }
   ],
   "source": [
    "#17. Write a Python program to train Logistic Regression using a custom learning rate (C=0.5) and evaluate accuracy\n",
    "model_custom = LogisticRegression(C=0.5, max_iter=500)\n",
    "model_custom.fit(x_train,y_train)\n",
    "print(\"Accuracy Score :\", accuracy_score(y_test,y_pred))"
   ]
  },
  {
   "cell_type": "code",
   "execution_count": 114,
   "id": "f5214d0f-a01a-4785-adc3-a5b268518717",
   "metadata": {},
   "outputs": [
    {
     "name": "stdout",
     "output_type": "stream",
     "text": [
      "Top features:\n",
      " petal length (cm)    2.131055\n",
      "petal width (cm)     0.969290\n",
      "sepal length (cm)   -0.407355\n",
      "sepal width (cm)    -1.379103\n",
      "dtype: float64\n"
     ]
    }
   ],
   "source": [
    "#18. Write a Python program to train Logistic Regression and identify important features based on model coefficients\n",
    "coefs = pd.Series(model_l2.coef_[0], index=data.feature_names)\n",
    "print(\"Top features:\\n\",coefs.sort_values(ascending=False).head())"
   ]
  },
  {
   "cell_type": "code",
   "execution_count": 116,
   "id": "5d5445ac-303a-4a0a-acbf-c4e9da85b660",
   "metadata": {},
   "outputs": [
    {
     "name": "stdout",
     "output_type": "stream",
     "text": [
      "Cohen Kappa: 1.0\n"
     ]
    }
   ],
   "source": [
    "#19. Write a Python program to train Logistic Regression and evaluate its performance using Cohen’s Kappa Score\n",
    "from sklearn.metrics import cohen_kappa_score\n",
    "print(\"Cohen Kappa:\", cohen_kappa_score(y_test, y_pred))"
   ]
  },
  {
   "cell_type": "code",
   "execution_count": 118,
   "id": "f514b624-4f54-4de6-a36c-6df2a7e6cdac",
   "metadata": {},
   "outputs": [
    {
     "data": {
      "image/png": "[encoded data removed]",
      "text/plain": [
       "<Figure size 640x480 with 1 Axes>"
      ]
     },
     "metadata": {},
     "output_type": "display_data"
    }
   ],
   "source": [
    "#20. Write a Python program to train Logistic Regression and visualize the Precision-Recall Curve for binary classificatio\n",
    "from sklearn.metrics import precision_recall_curve\n",
    "prec, rec, thr = precision_recall_curve(y_test, y_pred_proba)\n",
    "plt.plot(rec, prec)\n",
    "plt.xlabel('Recall')\n",
    "plt.ylabel('Precision')\n",
    "plt.title('Precision-Recall Curve')\n",
    "plt.show()"
   ]
  },
  {
   "cell_type": "code",
   "execution_count": 120,
   "id": "4300d76e-2598-4e8d-8732-0b34b7a7c30b",
   "metadata": {},
   "outputs": [
    {
     "name": "stdout",
     "output_type": "stream",
     "text": [
      "solver liblinear acc :  1.0\n",
      "solver saga acc :  1.0\n",
      "solver lbfgs acc :  1.0\n"
     ]
    }
   ],
   "source": [
    "#21. Write a Python program to train Logistic Regression with different solvers (liblinear, saga, lbfgs) and compare their accuracy\n",
    "for sol in [\"liblinear\", \"saga\", \"lbfgs\"]:\n",
    "    model_solver = LogisticRegression(solver=sol , max_iter=500)\n",
    "    model_solver.fit(x_train,y_train)\n",
    "    y_pred_sol = model_solver.predict(x_test)\n",
    "    print(f\"solver {sol} acc : \" , accuracy_score(y_test,y_pred_sol))"
   ]
  },
  {
   "cell_type": "code",
   "execution_count": 122,
   "id": "fd324313-2936-4525-9dec-833a6fdf6641",
   "metadata": {},
   "outputs": [
    {
     "name": "stdout",
     "output_type": "stream",
     "text": [
      "MCC: 1.0\n"
     ]
    }
   ],
   "source": [
    "#22. Write a Python program to train Logistic Regression and evaluate its performance using Matthews Correlation Coefficient (MCC)\n",
    "from sklearn.metrics import matthews_corrcoef\n",
    "print(\"MCC:\", matthews_corrcoef(y_test, y_pred))\n"
   ]
  },
  {
   "cell_type": "code",
   "execution_count": 124,
   "id": "790c17c3-955f-4b27-ad3f-d887fdd76bab",
   "metadata": {},
   "outputs": [
    {
     "name": "stdout",
     "output_type": "stream",
     "text": [
      "without scaling: 1.0\n",
      "With scaling: 1.0\n"
     ]
    }
   ],
   "source": [
    "#23. Write a Python program to train Logistic Regression on both raw and standardized data. Compare their accuracy to see the impact of feature scaling\n",
    "from sklearn.preprocessing import StandardScaler\n",
    "scaler = StandardScaler().fit(x_train)\n",
    "x_train, x_test = scaler.transform(x_train), scaler.transform(x_test)\n",
    "acc_no = accuracy_score(y_test, LogisticRegression(max_iter=500).fit(x_train, y_train).predict(x_test))\n",
    "acc_yes = accuracy_score(y_test,LogisticRegression(max_iter=500).fit(x_train, y_train).predict(x_test))\n",
    "print(\"without scaling:\", acc_no)\n",
    "print(\"With scaling:\", acc_yes)"
   ]
  },
  {
   "cell_type": "code",
   "execution_count": 126,
   "id": "2d5250d4-a2fd-4698-b634-4fb3921ea548",
   "metadata": {},
   "outputs": [
    {
     "name": "stdout",
     "output_type": "stream",
     "text": [
      "Fitting 5 folds for each of 18 candidates, totalling 90 fits\n",
      "[CV] END ....................................C=1, penalty=l1; total time=   0.0s\n",
      "[CV] END ....................................C=1, penalty=l1; total time=   0.0s\n",
      "[CV] END ....................................C=1, penalty=l1; total time=   0.0s\n",
      "[CV] END ....................................C=1, penalty=l1; total time=   0.0s\n",
      "[CV] END ....................................C=1, penalty=l1; total time=   0.0s\n",
      "[CV] END ....................................C=1, penalty=l2; total time=   0.0s\n",
      "[CV] END ....................................C=1, penalty=l2; total time=   0.0s\n",
      "[CV] END ....................................C=1, penalty=l2; total time=   0.0s\n",
      "[CV] END ....................................C=1, penalty=l2; total time=   0.0s\n",
      "[CV] END ....................................C=1, penalty=l2; total time=   0.0s\n",
      "[CV] END ............................C=1, penalty=elasticnet; total time=   0.0s\n",
      "[CV] END ............................C=1, penalty=elasticnet; total time=   0.0s\n",
      "[CV] END ............................C=1, penalty=elasticnet; total time=   0.0s\n",
      "[CV] END ............................C=1, penalty=elasticnet; total time=   0.0s\n",
      "[CV] END ............................C=1, penalty=elasticnet; total time=   0.0s\n",
      "[CV] END ....................................C=2, penalty=l1; total time=   0.0s\n",
      "[CV] END ....................................C=2, penalty=l1; total time=   0.0s\n",
      "[CV] END ....................................C=2, penalty=l1; total time=   0.0s\n",
      "[CV] END ....................................C=2, penalty=l1; total time=   0.0s\n",
      "[CV] END ....................................C=2, penalty=l1; total time=   0.0s\n",
      "[CV] END ....................................C=2, penalty=l2; total time=   0.0s\n",
      "[CV] END ....................................C=2, penalty=l2; total time=   0.0s\n",
      "[CV] END ....................................C=2, penalty=l2; total time=   0.0s\n",
      "[CV] END ....................................C=2, penalty=l2; total time=   0.0s\n",
      "[CV] END ....................................C=2, penalty=l2; total time=   0.0s\n",
      "[CV] END ............................C=2, penalty=elasticnet; total time=   0.0s\n",
      "[CV] END ............................C=2, penalty=elasticnet; total time=   0.0s\n",
      "[CV] END ............................C=2, penalty=elasticnet; total time=   0.0s\n",
      "[CV] END ............................C=2, penalty=elasticnet; total time=   0.0s\n",
      "[CV] END ............................C=2, penalty=elasticnet; total time=   0.0s\n",
      "[CV] END ...................................C=10, penalty=l1; total time=   0.0s\n",
      "[CV] END ...................................C=10, penalty=l1; total time=   0.0s\n",
      "[CV] END ...................................C=10, penalty=l1; total time=   0.0s\n",
      "[CV] END ...................................C=10, penalty=l1; total time=   0.0s\n",
      "[CV] END ...................................C=10, penalty=l1; total time=   0.0s\n",
      "[CV] END ...................................C=10, penalty=l2; total time=   0.0s\n",
      "[CV] END ...................................C=10, penalty=l2; total time=   0.0s\n",
      "[CV] END ...................................C=10, penalty=l2; total time=   0.0s\n",
      "[CV] END ...................................C=10, penalty=l2; total time=   0.0s\n",
      "[CV] END ...................................C=10, penalty=l2; total time=   0.0s\n",
      "[CV] END ...........................C=10, penalty=elasticnet; total time=   0.0s\n",
      "[CV] END ...........................C=10, penalty=elasticnet; total time=   0.0s\n",
      "[CV] END ...........................C=10, penalty=elasticnet; total time=   0.0s\n",
      "[CV] END ...........................C=10, penalty=elasticnet; total time=   0.0s\n",
      "[CV] END ...........................C=10, penalty=elasticnet; total time=   0.0s\n",
      "[CV] END ...................................C=20, penalty=l1; total time=   0.0s\n",
      "[CV] END ...................................C=20, penalty=l1; total time=   0.0s\n",
      "[CV] END ...................................C=20, penalty=l1; total time=   0.0s\n",
      "[CV] END ...................................C=20, penalty=l1; total time=   0.0s\n",
      "[CV] END ...................................C=20, penalty=l1; total time=   0.0s\n",
      "[CV] END ...................................C=20, penalty=l2; total time=   0.0s\n",
      "[CV] END ...................................C=20, penalty=l2; total time=   0.0s\n",
      "[CV] END ...................................C=20, penalty=l2; total time=   0.0s\n",
      "[CV] END ...................................C=20, penalty=l2; total time=   0.0s\n",
      "[CV] END ...................................C=20, penalty=l2; total time=   0.0s\n",
      "[CV] END ...........................C=20, penalty=elasticnet; total time=   0.0s\n",
      "[CV] END ...........................C=20, penalty=elasticnet; total time=   0.0s\n",
      "[CV] END ...........................C=20, penalty=elasticnet; total time=   0.0s\n",
      "[CV] END ...........................C=20, penalty=elasticnet; total time=   0.0s\n",
      "[CV] END ...........................C=20, penalty=elasticnet; total time=   0.0s\n",
      "[CV] END ...................................C=30, penalty=l1; total time=   0.0s\n",
      "[CV] END ...................................C=30, penalty=l1; total time=   0.0s\n",
      "[CV] END ...................................C=30, penalty=l1; total time=   0.0s\n",
      "[CV] END ...................................C=30, penalty=l1; total time=   0.0s\n",
      "[CV] END ...................................C=30, penalty=l1; total time=   0.0s\n",
      "[CV] END ...................................C=30, penalty=l2; total time=   0.0s\n",
      "[CV] END ...................................C=30, penalty=l2; total time=   0.0s\n",
      "[CV] END ...................................C=30, penalty=l2; total time=   0.0s\n",
      "[CV] END ...................................C=30, penalty=l2; total time=   0.0s\n",
      "[CV] END ...................................C=30, penalty=l2; total time=   0.0s\n",
      "[CV] END ...........................C=30, penalty=elasticnet; total time=   0.0s\n",
      "[CV] END ...........................C=30, penalty=elasticnet; total time=   0.0s\n",
      "[CV] END ...........................C=30, penalty=elasticnet; total time=   0.0s\n",
      "[CV] END ...........................C=30, penalty=elasticnet; total time=   0.0s\n",
      "[CV] END ...........................C=30, penalty=elasticnet; total time=   0.0s\n",
      "[CV] END ...................................C=40, penalty=l1; total time=   0.0s\n",
      "[CV] END ...................................C=40, penalty=l1; total time=   0.0s\n",
      "[CV] END ...................................C=40, penalty=l1; total time=   0.0s\n",
      "[CV] END ...................................C=40, penalty=l1; total time=   0.0s\n",
      "[CV] END ...................................C=40, penalty=l1; total time=   0.0s\n",
      "[CV] END ...................................C=40, penalty=l2; total time=   0.0s\n",
      "[CV] END ...................................C=40, penalty=l2; total time=   0.0s\n",
      "[CV] END ...................................C=40, penalty=l2; total time=   0.0s\n",
      "[CV] END ...................................C=40, penalty=l2; total time=   0.0s\n",
      "[CV] END ...................................C=40, penalty=l2; total time=   0.0s\n",
      "[CV] END ...........................C=40, penalty=elasticnet; total time=   0.0s\n",
      "[CV] END ...........................C=40, penalty=elasticnet; total time=   0.0s\n",
      "[CV] END ...........................C=40, penalty=elasticnet; total time=   0.0s\n",
      "[CV] END ...........................C=40, penalty=elasticnet; total time=   0.0s\n",
      "[CV] END ...........................C=40, penalty=elasticnet; total time=   0.0s\n",
      "Gridsearchcv Best : {'C': 1, 'penalty': 'l2'}\n",
      "Accuracy : 1.0\n"
     ]
    }
   ],
   "source": [
    "#24. Write a Python program to train Logistic Regression and find the optimal C (regularization strength) using cross-validation\n",
    "from sklearn.model_selection import GridSearchCV\n",
    "params = {\"penalty\": (\"l1\", \"l2\", \"elasticnet\"), 'C': [1, 2, 10, 20, 30, 40]}\n",
    "classifier = LogisticRegression()\n",
    "clf = GridSearchCV(classifier , param_grid= params , cv=5 ,verbose=2)\n",
    "clf.fit(x_train,y_train)\n",
    "print(\"Gridsearchcv Best :\" ,clf.best_params_)\n",
    "print(\"Accuracy :\",clf.best_score_)"
   ]
  },
  {
   "cell_type": "code",
   "execution_count": 128,
   "id": "7ed060f1-dc6e-4e63-a5ce-1b9d82f0e130",
   "metadata": {},
   "outputs": [
    {
     "name": "stdout",
     "output_type": "stream",
     "text": [
      "Loaded model accuracy: 1.0\n"
     ]
    }
   ],
   "source": [
    "#25. Write a Python program to train Logistic Regression, save the trained model using joblib, and load it again to make predictions.\n",
    "import joblib\n",
    "joblib.dump(model_l2, 'lr_model.pkl')\n",
    "lr_loaded = joblib.load('lr_model.pkl')\n",
    "print(\"Loaded model accuracy:\", accuracy_score(y_test, lr_loaded.predict(x_test)))\n"
   ]
  },
  {
   "cell_type": "code",
   "execution_count": null,
   "id": "4582ee29-195e-49fd-bbba-1f68e6467fdf",
   "metadata": {},
   "outputs": [],
   "source": []
  },
  {
   "cell_type": "code",
   "execution_count": null,
   "id": "3adbe1fa-04a6-4b17-bd76-bbcbdf2ebf69",
   "metadata": {},
   "outputs": [],
   "source": []
  },
  {
   "cell_type": "code",
   "execution_count": null,
   "id": "b1930cc0-db52-41b6-8a7a-d1bcc8dc4f26",
   "metadata": {},
   "outputs": [],
   "source": []
  },
  {
   "cell_type": "code",
   "execution_count": null,
   "id": "bcc7eb83-d8c7-4d41-a548-1bac5e046c6c",
   "metadata": {},
   "outputs": [],
   "source": []
  },
  {
   "cell_type": "code",
   "execution_count": null,
   "id": "5d600ee9-1e81-4bf6-88cc-9ca79f34b816",
   "metadata": {},
   "outputs": [],
   "source": []
  },
  {
   "cell_type": "code",
   "execution_count": null,
   "id": "ef04aa10-11d3-430e-b79e-908689b17ede",
   "metadata": {},
   "outputs": [],
   "source": []
  },
  {
   "cell_type": "code",
   "execution_count": null,
   "id": "849c6c8e-1bcf-4a75-ac63-d1af4eb518c4",
   "metadata": {},
   "outputs": [],
   "source": []
  },
  {
   "cell_type": "code",
   "execution_count": null,
   "id": "c125becf-b112-4af4-942b-070af5eb1812",
   "metadata": {},
   "outputs": [],
   "source": []
  },
  {
   "cell_type": "code",
   "execution_count": null,
   "id": "27875ce5-b466-4d70-8b86-3aca50128895",
   "metadata": {},
   "outputs": [],
   "source": []
  },
  {
   "cell_type": "code",
   "execution_count": null,
   "id": "3edc6bb2-2f04-48b6-8696-a99c3a402fe4",
   "metadata": {},
   "outputs": [],
   "source": []
  },
  {
   "cell_type": "code",
   "execution_count": null,
   "id": "07742480-7e8c-4c7e-98de-f4070894fa7e",
   "metadata": {},
   "outputs": [],
   "source": []
  },
  {
   "cell_type": "code",
   "execution_count": null,
   "id": "04c67327-6ed5-4e96-bc95-9d998f809ff6",
   "metadata": {},
   "outputs": [],
   "source": []
  },
  {
   "cell_type": "code",
   "execution_count": null,
   "id": "bc501c50-92d8-41fd-9b05-fcdd72182dbc",
   "metadata": {},
   "outputs": [],
   "source": []
  },
  {
   "cell_type": "code",
   "execution_count": null,
   "id": "e0e970ae-c579-4ec7-989c-faaf8d577d9b",
   "metadata": {},
   "outputs": [],
   "source": []
  },
  {
   "cell_type": "code",
   "execution_count": null,
   "id": "6598edc1-0b2f-481b-aa00-1f9ce8467700",
   "metadata": {},
   "outputs": [],
   "source": []
  },
  {
   "cell_type": "code",
   "execution_count": null,
   "id": "ef15d9c5-b142-4b01-8250-fdf9202fd74b",
   "metadata": {},
   "outputs": [],
   "source": []
  }
 ],
 "metadata": {
  "kernelspec": {
   "display_name": "Python [conda env:base] *",
   "language": "python",
   "name": "conda-base-py"
  },
  "language_info": {
   "codemirror_mode": {
    "name": "ipython",
    "version": 3
   },
   "file_extension": ".py",
   "mimetype": "text/x-python",
   "name": "python",
   "nbconvert_exporter": "python",
   "pygments_lexer": "ipython3",
   "version": "3.12.7"
  }
 },
 "nbformat": 4,
 "nbformat_minor": 5
}
